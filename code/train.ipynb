{
 "cells": [
  {
   "cell_type": "code",
   "execution_count": 6,
   "metadata": {},
   "outputs": [],
   "source": [
    "import torch\n",
    "from torch.utils.data import Dataset\n",
    "from torchvision import datasets, transforms\n",
    "from torchvision.transforms import ToTensor\n",
    "import matplotlib.pyplot as plt\n",
    "import matplotlib.image as mpimg\n",
    "\n",
    "import os\n",
    "import pandas as pd\n",
    "from torchvision.io import read_image"
   ]
  },
  {
   "cell_type": "code",
   "execution_count": 7,
   "metadata": {},
   "outputs": [],
   "source": [
    "def encode_label(label):\n",
    "    labels = ['Snail', 'Water', 'Plant', 'Cattle', 'Grain', 'Bird', 'People', 'Animal', 'Snake']\n",
    "    for i in range(len(labels)):\n",
    "        if label == labels[i]:\n",
    "            return i\n",
    "    \n",
    "    return -1\n",
    "\n",
    "def decode_label(code):\n",
    "    labels = ['Snail', 'Water', 'Plant', 'Cattle', 'Grain', 'Bird', 'People', 'Animal', 'Snake']\n",
    "    return labels[code]\n",
    "    "
   ]
  },
  {
   "cell_type": "code",
   "execution_count": 11,
   "metadata": {},
   "outputs": [],
   "source": [
    "# Self-defined dataset class\n",
    "class HieroglyphicsDataset(Dataset):\n",
    "    def __init__(self, directory_path, mode, transform=None, target_transform=None):\n",
    "        assert(mode == 'train' or mode == 'test')\n",
    "        \n",
    "        self.data = []\n",
    "        self.transform = transform\n",
    "        self.target_transform = target_transform\n",
    "        \n",
    "        print('You are creating a %s dataset from %s.' % (mode, directory_path))\n",
    "              \n",
    "        for _, categories, _ in os.walk(directory_path):\n",
    "            for category in categories:\n",
    "                if (category.split('.')[-1] in ['DS_Store', 'ipynb_checkpoints']):\n",
    "                    continue\n",
    "                    \n",
    "                label = encode_label(category)\n",
    "                label = torch.tensor(label)\n",
    "                if self.target_transform:\n",
    "                    label = self.target_transform(label)\n",
    "                    \n",
    "                category_path = os.path.join(directory_path, category)\n",
    "                for _, _, image_files in os.walk(category_path):\n",
    "              \n",
    "                    # Split dataset into training and testing subsets\n",
    "                    divider = (int)(len(image_files)*1)\n",
    "                    if mode == 'train':\n",
    "                        image_files = image_files[:divider]\n",
    "                    elif mode == 'test':\n",
    "                        image_files = image_files[divider:]\n",
    "                    \n",
    "                    # Add image \n",
    "                    count = 0\n",
    "                    for image_file in image_files:\n",
    "                        if not (image_file.split('.')[-1] in ['jpg', 'jpeg', 'png']):\n",
    "                            continue\n",
    "                        \n",
    "                        image_path = os.path.join(category_path, image_file)\n",
    "                        image = read_image(image_path)/255\n",
    "                        if self.transform:\n",
    "                            image = self.transform(image)\n",
    "                        self.data.append((image, label))\n",
    "                        count += 1\n",
    "\n",
    "                    # Summarize\n",
    "                    print('\\t%s - %d' % (category, count))\n",
    "        \n",
    "        \n",
    "    def __len__(self):\n",
    "        return len(self.data)\n",
    "    \n",
    "    def __getitem__(self, idx):\n",
    "        return self.data[idx]\n",
    "    \n",
    "\n",
    "class DemoDataset(Dataset):\n",
    "    def __init__(self, image_path, transform=None):\n",
    "        self.data = []\n",
    "        self.transform = transform\n",
    "        \n",
    "        image = read_image(image_path)/255\n",
    "        if self.transform:\n",
    "            image = self.transform(image)\n",
    "            \n",
    "        self.data.append((image, torch.tensor(-1)))\n",
    "    \n",
    "    def __len__(self):\n",
    "        return len(self.data)\n",
    "    \n",
    "    def __getitem__(self, idx):\n",
    "        return self.data[idx]"
   ]
  },
  {
   "cell_type": "code",
   "execution_count": null,
   "metadata": {},
   "outputs": [
    {
     "name": "stdout",
     "output_type": "stream",
     "text": [
      "You are creating a train dataset from ./data/categorized_images.\n",
      "\tSnail - 10\n",
      "\tWater - 44\n",
      "\tPlant - 22\n",
      "\tCattle - 10\n",
      "\tGrain - 24\n",
      "\tBird - 81\n",
      "\tPeople - 29\n",
      "\tAnimal - 10\n",
      "\tSnake - 5\n",
      "You are creating a train dataset from ./data/categorized_images.\n",
      "\tSnail - 10\n",
      "\tWater - 44\n",
      "\tPlant - 22\n"
     ]
    }
   ],
   "source": [
    "trainset = HieroglyphicsDataset('./data/categorized_images', 'train', transform=transforms.Compose([\n",
    "    transforms.Resize((224, 224))]),\n",
    ")\n",
    "testset = HieroglyphicsDataset('./data/categorized_images', 'train', transform=transforms.Compose([\n",
    "    transforms.Resize((224, 224))]),)"
   ]
  },
  {
   "cell_type": "markdown",
   "metadata": {},
   "source": [
    "# Load data"
   ]
  },
  {
   "cell_type": "code",
   "execution_count": 13,
   "metadata": {},
   "outputs": [
    {
     "ename": "ValueError",
     "evalue": "num_samples should be a positive integer value, but got num_samples=0",
     "output_type": "error",
     "traceback": [
      "\u001b[0;31m---------------------------------------------------------------------------\u001b[0m",
      "\u001b[0;31mValueError\u001b[0m                                Traceback (most recent call last)",
      "\u001b[0;32m<ipython-input-13-768aab4f8fdb>\u001b[0m in \u001b[0;36m<module>\u001b[0;34m()\u001b[0m\n\u001b[1;32m      2\u001b[0m \u001b[0;34m\u001b[0m\u001b[0m\n\u001b[1;32m      3\u001b[0m \u001b[0mtrain_dataloader\u001b[0m \u001b[0;34m=\u001b[0m \u001b[0mDataLoader\u001b[0m\u001b[0;34m(\u001b[0m\u001b[0mtrainset\u001b[0m\u001b[0;34m,\u001b[0m \u001b[0mbatch_size\u001b[0m\u001b[0;34m=\u001b[0m\u001b[0;36m4\u001b[0m\u001b[0;34m,\u001b[0m \u001b[0mshuffle\u001b[0m\u001b[0;34m=\u001b[0m\u001b[0;32mTrue\u001b[0m\u001b[0;34m)\u001b[0m\u001b[0;34m\u001b[0m\u001b[0;34m\u001b[0m\u001b[0m\n\u001b[0;32m----> 4\u001b[0;31m \u001b[0mtest_dataloader\u001b[0m \u001b[0;34m=\u001b[0m \u001b[0mDataLoader\u001b[0m\u001b[0;34m(\u001b[0m\u001b[0mtestset\u001b[0m\u001b[0;34m,\u001b[0m \u001b[0mbatch_size\u001b[0m\u001b[0;34m=\u001b[0m\u001b[0;36m4\u001b[0m\u001b[0;34m,\u001b[0m \u001b[0mshuffle\u001b[0m\u001b[0;34m=\u001b[0m\u001b[0;32mTrue\u001b[0m\u001b[0;34m)\u001b[0m\u001b[0;34m\u001b[0m\u001b[0;34m\u001b[0m\u001b[0m\n\u001b[0m",
      "\u001b[0;32m/Users/melialiu/opt/miniconda3/envs/cs172/lib/python3.7/site-packages/torch/utils/data/dataloader.py\u001b[0m in \u001b[0;36m__init__\u001b[0;34m(self, dataset, batch_size, shuffle, sampler, batch_sampler, num_workers, collate_fn, pin_memory, drop_last, timeout, worker_init_fn, multiprocessing_context, generator, prefetch_factor, persistent_workers)\u001b[0m\n\u001b[1;32m    268\u001b[0m                     \u001b[0;31m# Cannot statically verify that dataset is Sized\u001b[0m\u001b[0;34m\u001b[0m\u001b[0;34m\u001b[0m\u001b[0;34m\u001b[0m\u001b[0m\n\u001b[1;32m    269\u001b[0m                     \u001b[0;31m# Somewhat related: see NOTE [ Lack of Default `__len__` in Python Abstract Base Classes ]\u001b[0m\u001b[0;34m\u001b[0m\u001b[0;34m\u001b[0m\u001b[0;34m\u001b[0m\u001b[0m\n\u001b[0;32m--> 270\u001b[0;31m                     \u001b[0msampler\u001b[0m \u001b[0;34m=\u001b[0m \u001b[0mRandomSampler\u001b[0m\u001b[0;34m(\u001b[0m\u001b[0mdataset\u001b[0m\u001b[0;34m,\u001b[0m \u001b[0mgenerator\u001b[0m\u001b[0;34m=\u001b[0m\u001b[0mgenerator\u001b[0m\u001b[0;34m)\u001b[0m  \u001b[0;31m# type: ignore[arg-type]\u001b[0m\u001b[0;34m\u001b[0m\u001b[0;34m\u001b[0m\u001b[0m\n\u001b[0m\u001b[1;32m    271\u001b[0m                 \u001b[0;32melse\u001b[0m\u001b[0;34m:\u001b[0m\u001b[0;34m\u001b[0m\u001b[0;34m\u001b[0m\u001b[0m\n\u001b[1;32m    272\u001b[0m                     \u001b[0msampler\u001b[0m \u001b[0;34m=\u001b[0m \u001b[0mSequentialSampler\u001b[0m\u001b[0;34m(\u001b[0m\u001b[0mdataset\u001b[0m\u001b[0;34m)\u001b[0m  \u001b[0;31m# type: ignore[arg-type]\u001b[0m\u001b[0;34m\u001b[0m\u001b[0;34m\u001b[0m\u001b[0m\n",
      "\u001b[0;32m/Users/melialiu/opt/miniconda3/envs/cs172/lib/python3.7/site-packages/torch/utils/data/sampler.py\u001b[0m in \u001b[0;36m__init__\u001b[0;34m(self, data_source, replacement, num_samples, generator)\u001b[0m\n\u001b[1;32m    101\u001b[0m         \u001b[0;32mif\u001b[0m \u001b[0;32mnot\u001b[0m \u001b[0misinstance\u001b[0m\u001b[0;34m(\u001b[0m\u001b[0mself\u001b[0m\u001b[0;34m.\u001b[0m\u001b[0mnum_samples\u001b[0m\u001b[0;34m,\u001b[0m \u001b[0mint\u001b[0m\u001b[0;34m)\u001b[0m \u001b[0;32mor\u001b[0m \u001b[0mself\u001b[0m\u001b[0;34m.\u001b[0m\u001b[0mnum_samples\u001b[0m \u001b[0;34m<=\u001b[0m \u001b[0;36m0\u001b[0m\u001b[0;34m:\u001b[0m\u001b[0;34m\u001b[0m\u001b[0;34m\u001b[0m\u001b[0m\n\u001b[1;32m    102\u001b[0m             raise ValueError(\"num_samples should be a positive integer \"\n\u001b[0;32m--> 103\u001b[0;31m                              \"value, but got num_samples={}\".format(self.num_samples))\n\u001b[0m\u001b[1;32m    104\u001b[0m \u001b[0;34m\u001b[0m\u001b[0m\n\u001b[1;32m    105\u001b[0m     \u001b[0;34m@\u001b[0m\u001b[0mproperty\u001b[0m\u001b[0;34m\u001b[0m\u001b[0;34m\u001b[0m\u001b[0m\n",
      "\u001b[0;31mValueError\u001b[0m: num_samples should be a positive integer value, but got num_samples=0"
     ]
    }
   ],
   "source": [
    "from torch.utils.data import DataLoader\n",
    "\n",
    "train_dataloader = DataLoader(trainset, batch_size=4, shuffle=True)\n",
    "test_dataloader = DataLoader(testset, batch_size=4, shuffle=True)"
   ]
  },
  {
   "cell_type": "code",
   "execution_count": 18,
   "metadata": {},
   "outputs": [
    {
     "data": {
      "image/png": "[encoded data removed]",
      "text/plain": [
       "<Figure size 432x288 with 1 Axes>"
      ]
     },
     "metadata": {
      "needs_background": "light"
     },
     "output_type": "display_data"
    },
    {
     "name": "stdout",
     "output_type": "stream",
     "text": [
      "Label: Cattle\n",
      "tensor([[0.4353, 0.4390, 0.4610,  ..., 0.9252, 0.8885, 0.8824],\n",
      "        [0.4502, 0.4545, 0.4801,  ..., 0.9073, 0.8725, 0.8667],\n",
      "        [0.4862, 0.4920, 0.5265,  ..., 0.8640, 0.8339, 0.8289],\n",
      "        ...,\n",
      "        [0.7139, 0.7141, 0.7150,  ..., 0.6605, 0.6826, 0.6863],\n",
      "        [0.7193, 0.7194, 0.7197,  ..., 0.6739, 0.6845, 0.6863],\n",
      "        [0.7216, 0.7216, 0.7216,  ..., 0.6794, 0.6853, 0.6863]])\n"
     ]
    }
   ],
   "source": [
    "# Check\n",
    "train_features, train_labels = next(iter(train_dataloader))\n",
    "img = train_features[0][1] # We only visualize one channel since all the channels are the same\n",
    "label = train_labels[0]\n",
    "\n",
    "plt.imshow(img)\n",
    "plt.show()\n",
    "print(f\"Label: {decode_label(label)}\")\n",
    "\n",
    "print(img)"
   ]
  },
  {
   "cell_type": "markdown",
   "metadata": {},
   "source": [
    "# Train"
   ]
  },
  {
   "cell_type": "code",
   "execution_count": 19,
   "metadata": {},
   "outputs": [],
   "source": [
    "# Related modules\n",
    "import torchvision\n",
    "import torch.nn as nn\n",
    "import torch.optim as optim\n",
    "from torch.autograd import Variable"
   ]
  },
  {
   "cell_type": "code",
   "execution_count": 20,
   "metadata": {},
   "outputs": [],
   "source": [
    "# Hyper parameters\n",
    "lr = 0.01\n",
    "momentum = 0.9\n",
    "epochs = 5"
   ]
  },
  {
   "cell_type": "code",
   "execution_count": 21,
   "metadata": {},
   "outputs": [],
   "source": [
    "class MyNet(nn.Module):\n",
    "    def __init__(self, category_num):\n",
    "        super(MyNet, self).__init__()\n",
    "        self.resnet = torchvision.models.resnet50(pretrained=True)\n",
    "        self.end = nn.Linear(1000, category_num, bias=True)\n",
    "        \n",
    "    def forward(self, x):\n",
    "        x = self.resnet(x)\n",
    "        x = self.end(x)\n",
    "        \n",
    "        return x"
   ]
  },
  {
   "cell_type": "code",
   "execution_count": 32,
   "metadata": {},
   "outputs": [],
   "source": [
    "model = MyNet(category_num=9)\n",
    "criterion = nn.CrossEntropyLoss()\n",
    "optimizer = optim.SGD(model.parameters(), lr=lr, momentum=momentum)"
   ]
  },
  {
   "cell_type": "code",
   "execution_count": 33,
   "metadata": {},
   "outputs": [],
   "source": [
    "def train(model, criterion, optimizer, epoch, train_loader):\n",
    "    model.train()\n",
    "    \n",
    "    running_loss = 0.0\n",
    "    for i, data in enumerate(train_loader, 0):\n",
    "        # get the inputs; data is a list of [inputs, labels]\n",
    "        inputs, labels = data\n",
    "\n",
    "        # zero the parameter gradients\n",
    "        optimizer.zero_grad()\n",
    "\n",
    "        # forward + backward + optimize\n",
    "        outputs = model(inputs)\n",
    "        \n",
    "        loss = criterion(outputs, labels)\n",
    "        loss.backward()\n",
    "        optimizer.step()\n",
    "\n",
    "        # print statistics\n",
    "        running_loss += loss.item()\n",
    "        if i % 10 == 9:    # print every 10 mini-batches\n",
    "            print('[%d, %5d] loss: %.3f' %\n",
    "                  (epoch + 1, i + 1, running_loss / 10))\n",
    "            running_loss = 0.0"
   ]
  },
  {
   "cell_type": "code",
   "execution_count": 12,
   "metadata": {},
   "outputs": [
    {
     "name": "stderr",
     "output_type": "stream",
     "text": [
      "/Users/melialiu/opt/miniconda3/envs/cs172/lib/python3.7/site-packages/torch/nn/functional.py:718: UserWarning: Named tensors and all their associated APIs are an experimental feature and subject to change. Please do not use them for anything important until they are released as stable. (Triggered internally at  ../c10/core/TensorImpl.h:1156.)\n",
      "  return torch.max_pool2d(input, kernel_size, stride, padding, dilation, ceil_mode)\n"
     ]
    },
    {
     "name": "stdout",
     "output_type": "stream",
     "text": [
      "[1,    10] loss: 5.774\n",
      "[1,    20] loss: 15.949\n",
      "[1,    30] loss: 20.582\n",
      "[1,    40] loss: 9.463\n",
      "[1,    50] loss: 8.057\n",
      "[2,    10] loss: 4.041\n",
      "[2,    20] loss: 2.653\n",
      "[2,    30] loss: 2.084\n",
      "[2,    40] loss: 2.097\n",
      "[2,    50] loss: 2.527\n",
      "[3,    10] loss: 1.766\n",
      "[3,    20] loss: 2.919\n",
      "[3,    30] loss: 2.345\n",
      "[3,    40] loss: 1.963\n",
      "[3,    50] loss: 1.878\n",
      "[4,    10] loss: 1.995\n",
      "[4,    20] loss: 2.244\n",
      "[4,    30] loss: 2.561\n",
      "[4,    40] loss: 1.918\n",
      "[4,    50] loss: 1.809\n",
      "[5,    10] loss: 1.829\n",
      "[5,    20] loss: 1.753\n",
      "[5,    30] loss: 1.838\n",
      "[5,    40] loss: 1.466\n",
      "[5,    50] loss: 1.951\n"
     ]
    }
   ],
   "source": [
    "for epoch in range(epochs):\n",
    "    train(model, criterion, optimizer, epoch, train_dataloader)"
   ]
  },
  {
   "cell_type": "code",
   "execution_count": 59,
   "metadata": {},
   "outputs": [],
   "source": [
    "# Save model\n",
    "PATH = './models/model_on_boardset.pth'\n",
    "torch.save(model.state_dict(), PATH)"
   ]
  },
  {
   "cell_type": "markdown",
   "metadata": {},
   "source": [
    "# Test"
   ]
  },
  {
   "cell_type": "code",
   "execution_count": 34,
   "metadata": {},
   "outputs": [],
   "source": [
    "def test(model, test_loader):\n",
    "    model.eval()\n",
    "    \n",
    "    correct = 0\n",
    "    total = 0\n",
    "    with torch.no_grad():\n",
    "        for data in test_loader:\n",
    "            images, labels = data\n",
    "            # calculate outputs by running images through the network\n",
    "            outputs = model(images)\n",
    "            # the class with the highest energy is what we choose as prediction\n",
    "            _, predicted = torch.max(outputs.data, 1)\n",
    "            total += labels.size(0)\n",
    "            correct += (predicted == labels).sum().item()\n",
    "\n",
    "    print('Accuracy of the network on the %d test images: %d %%' % \n",
    "          (total, 100 * correct / total))\n",
    "\n",
    "def test_category(model, test_loader):\n",
    "    model.eval()\n",
    "    \n",
    "    classes = ['Snail', 'Water', 'Plant', 'Cattle', 'Grain', 'Bird', 'People', 'Animal', 'Snake']\n",
    "    correct_pred = {classname: 0 for classname in classes}\n",
    "    total_pred = {classname: 0 for classname in classes}\n",
    "    \n",
    "    # again no gradients needed\n",
    "    with torch.no_grad():\n",
    "        for data in test_loader:\n",
    "            images, labels = data\n",
    "            outputs = model(images)\n",
    "            _, predictions = torch.max(outputs, 1)\n",
    "            # collect the correct predictions for each class\n",
    "            for label, prediction in zip(labels, predictions):\n",
    "                if label == prediction:\n",
    "                    correct_pred[classes[label]] += 1\n",
    "                total_pred[classes[label]] += 1\n",
    "\n",
    "\n",
    "    # print accuracy for each class\n",
    "    for classname, correct_count in correct_pred.items():\n",
    "        accuracy = 100 * float(correct_count) / total_pred[classname]\n",
    "        print(\"Accuracy for class {:5s} is: {:.1f} % ({} / {})\".format(\n",
    "                classname,\n",
    "                accuracy,\n",
    "                correct_count,\n",
    "                total_pred[classname])\n",
    "             )"
   ]
  },
  {
   "cell_type": "code",
   "execution_count": 24,
   "metadata": {},
   "outputs": [
    {
     "data": {
      "text/plain": [
       "<All keys matched successfully>"
      ]
     },
     "execution_count": 24,
     "metadata": {},
     "output_type": "execute_result"
    }
   ],
   "source": [
    "# Load model\n",
    "PATH = './models/model_on_boardset.pth'\n",
    "model = MyNet(category_num=9)\n",
    "model.load_state_dict(torch.load(PATH))"
   ]
  },
  {
   "cell_type": "code",
   "execution_count": 37,
   "metadata": {},
   "outputs": [
    {
     "ename": "NameError",
     "evalue": "name 'test' is not defined",
     "output_type": "error",
     "traceback": [
      "\u001b[0;31m---------------------------------------------------------------------------\u001b[0m",
      "\u001b[0;31mNameError\u001b[0m                                 Traceback (most recent call last)",
      "\u001b[0;32m<ipython-input-37-7c05d06a5077>\u001b[0m in \u001b[0;36m<module>\u001b[0;34m()\u001b[0m\n\u001b[0;32m----> 1\u001b[0;31m \u001b[0mtest\u001b[0m\u001b[0;34m(\u001b[0m\u001b[0mmodel\u001b[0m\u001b[0;34m,\u001b[0m \u001b[0mtrain_dataloader\u001b[0m\u001b[0;34m)\u001b[0m\u001b[0;34m\u001b[0m\u001b[0;34m\u001b[0m\u001b[0m\n\u001b[0m",
      "\u001b[0;31mNameError\u001b[0m: name 'test' is not defined"
     ]
    }
   ],
   "source": [
    "test(model, train_dataloader)"
   ]
  },
  {
   "cell_type": "code",
   "execution_count": 38,
   "metadata": {},
   "outputs": [
    {
     "ename": "NameError",
     "evalue": "name 'test_category' is not defined",
     "output_type": "error",
     "traceback": [
      "\u001b[0;31m---------------------------------------------------------------------------\u001b[0m",
      "\u001b[0;31mNameError\u001b[0m                                 Traceback (most recent call last)",
      "\u001b[0;32m<ipython-input-38-8ed1cfd0178c>\u001b[0m in \u001b[0;36m<module>\u001b[0;34m()\u001b[0m\n\u001b[0;32m----> 1\u001b[0;31m \u001b[0mtest_category\u001b[0m\u001b[0;34m(\u001b[0m\u001b[0mmodel\u001b[0m\u001b[0;34m,\u001b[0m \u001b[0mtrain_dataloader\u001b[0m\u001b[0;34m)\u001b[0m\u001b[0;34m\u001b[0m\u001b[0;34m\u001b[0m\u001b[0m\n\u001b[0m",
      "\u001b[0;31mNameError\u001b[0m: name 'test_category' is not defined"
     ]
    }
   ],
   "source": [
    "test_category(model, train_dataloader)"
   ]
  },
  {
   "cell_type": "markdown",
   "metadata": {},
   "source": [
    "# HOG"
   ]
  },
  {
   "cell_type": "code",
   "execution_count": 37,
   "metadata": {},
   "outputs": [],
   "source": [
    "import cv2\n",
    "import numpy as np\n",
    "hog = cv2.HOGDescriptor()"
   ]
  },
  {
   "cell_type": "code",
   "execution_count": 40,
   "metadata": {},
   "outputs": [],
   "source": [
    "img1 = cv2.imread('./char_new_dataset/Bird/all_characters_without_space_page-0286.jpg', cv2.IMREAD_GRAYSCALE)\n",
    "img2 = cv2.imread('./board_dataset/Animal/animal_1.jpg', cv2.IMREAD_GRAYSCALE)\n",
    "\n",
    "img1 = cv2.resize(img1, (200, 200), interpolation = cv2.INTER_AREA)\n",
    "img2 = cv2.resize(img2, (200, 200), interpolation = cv2.INTER_AREA)\n",
    "\n"
   ]
  },
  {
   "cell_type": "code",
   "execution_count": 41,
   "metadata": {},
   "outputs": [
    {
     "name": "stdout",
     "output_type": "stream",
     "text": [
      "<class 'numpy.ndarray'> (200, 200)\n",
      "<class 'numpy.ndarray'> (200, 200)\n"
     ]
    }
   ],
   "source": [
    "print(type(img1), img1.shape)\n",
    "print(type(img2), img2.shape)\n",
    "\n",
    "des1 = hog.compute(img1)\n",
    "des2 = hog.compute(img2)"
   ]
  },
  {
   "cell_type": "code",
   "execution_count": null,
   "metadata": {},
   "outputs": [],
   "source": []
  },
  {
   "cell_type": "code",
   "execution_count": 54,
   "metadata": {},
   "outputs": [],
   "source": [
    "img_tensor = read_image('./demotest_dataset/test/plant_7.jpg')\n",
    "img_numpy = cv2.imread('./demotest_dataset/test/plant_7.jpg', cv2.IMREAD_GRAYSCALE)"
   ]
  },
  {
   "cell_type": "code",
   "execution_count": 55,
   "metadata": {},
   "outputs": [
    {
     "name": "stdout",
     "output_type": "stream",
     "text": [
      "<class 'torch.Tensor'>\n",
      "<class 'numpy.ndarray'>\n"
     ]
    }
   ],
   "source": [
    "print(type(img_tensor))\n",
    "print(type(img_numpy))"
   ]
  },
  {
   "cell_type": "code",
   "execution_count": null,
   "metadata": {},
   "outputs": [],
   "source": []
  },
  {
   "cell_type": "code",
   "execution_count": 48,
   "metadata": {},
   "outputs": [
    {
     "name": "stdout",
     "output_type": "stream",
     "text": [
      "You are creating a train dataset from ./demotest_dataset.\n",
      "plant_7.jpg\n",
      "\ttest - 1\n"
     ]
    }
   ],
   "source": [
    "testset = HieroglyphicsDataset('./demotest_dataset', 'train', transform=transforms.Compose([\n",
    "    transforms.Resize((224, 224))]))\n",
    "test_dataloader = DataLoader(testset, batch_size=1, shuffle=False)"
   ]
  },
  {
   "cell_type": "code",
   "execution_count": 49,
   "metadata": {},
   "outputs": [
    {
     "name": "stdout",
     "output_type": "stream",
     "text": [
      "Plant\n"
     ]
    }
   ],
   "source": [
    "for data in test_dataloader:\n",
    "    images, labels = data\n",
    "    outputs = model(images)\n",
    "    _, predictions = torch.max(outputs, 1)\n",
    "    print(decode_label(predictions[0]))"
   ]
  },
  {
   "cell_type": "code",
   "execution_count": 27,
   "metadata": {},
   "outputs": [],
   "source": [
    "demo_set =  DemoDataset('./demotest_dataset/plant_7.jpg', transform=transforms.Compose([\n",
    "    transforms.Resize((224, 224))]))"
   ]
  },
  {
   "cell_type": "code",
   "execution_count": 28,
   "metadata": {},
   "outputs": [
    {
     "name": "stdout",
     "output_type": "stream",
     "text": [
      "<torch.utils.data.dataloader.DataLoader object at 0x7fca5b795b10>\n"
     ]
    }
   ],
   "source": [
    "test_dataloader = DataLoader(demo_set, batch_size=1, shuffle=False)\n",
    "\n",
    "print(test_dataloader)"
   ]
  },
  {
   "cell_type": "code",
   "execution_count": 29,
   "metadata": {},
   "outputs": [
    {
     "name": "stderr",
     "output_type": "stream",
     "text": [
      "/Users/melialiu/opt/miniconda3/envs/cs172/lib/python3.7/site-packages/torch/nn/functional.py:718: UserWarning: Named tensors and all their associated APIs are an experimental feature and subject to change. Please do not use them for anything important until they are released as stable. (Triggered internally at  ../c10/core/TensorImpl.h:1156.)\n",
      "  return torch.max_pool2d(input, kernel_size, stride, padding, dilation, ceil_mode)\n"
     ]
    },
    {
     "name": "stdout",
     "output_type": "stream",
     "text": [
      "Plant\n"
     ]
    }
   ],
   "source": [
    "for data in test_dataloader:\n",
    "    images, labels = data\n",
    "    outputs = model(images)\n",
    "    _, predictions = torch.max(outputs, 1)\n",
    "    print(decode_label(predictions[0]))"
   ]
  },
  {
   "cell_type": "code",
   "execution_count": 6,
   "metadata": {},
   "outputs": [],
   "source": [
    "def predict_class(model, image_path):\n",
    "    dataset =  DemoDataset(image_path, transform=transforms.Compose([\n",
    "        transforms.Resize((224, 224))]))\n",
    "    test_dataloader = DataLoader(demo_set, batch_size=1, shuffle=False)\n",
    "    \n",
    "    for data in test_dataloader:\n",
    "        images, labels = data\n",
    "        outputs = model(images)\n",
    "        _, predictions = torch.max(outputs, 1)\n",
    "        \n",
    "    return decode_label(predictions[0])"
   ]
  },
  {
   "cell_type": "code",
   "execution_count": 31,
   "metadata": {},
   "outputs": [
    {
     "data": {
      "text/plain": [
       "'Plant'"
      ]
     },
     "execution_count": 31,
     "metadata": {},
     "output_type": "execute_result"
    }
   ],
   "source": [
    "predict_class(model, './demotest_dataset/plant_7.jpg')"
   ]
  },
  {
   "cell_type": "code",
   "execution_count": 40,
   "metadata": {},
   "outputs": [],
   "source": [
    "def predict_char(pred_class, folder_path, image_path):\n",
    "    hog = cv2.HOGDescriptor()\n",
    "    img = cv2.resize(cv2.imread(image_path), (200, 200), interpolation = cv2.INTER_AREA)\n",
    "    des = hog.compute(img)\n",
    "    \n",
    "    character_files = []\n",
    "    character_diffs = []\n",
    "    for _, categories, _ in os.walk(folder_path):\n",
    "        for category in categories:\n",
    "            if (category == pred_class):\n",
    "                category_path = os.path.join(folder_path, category)\n",
    "                for _, _, char_files in os.walk(category_path):\n",
    "                    for char_file in char_files:\n",
    "                        print(char_file.split('.')[-1])\n",
    "                        if not (char_file.split('.')[-1] in ['jpg', 'jpeg', 'png']):\n",
    "                            continue\n",
    "\n",
    "                        temp_file_path = os.path.join(category_path, char_file)\n",
    "                        character_files.append(temp_file_path)\n",
    "\n",
    "                        temp_img = cv2.resize(cv2.imread(image_path), (200, 200), interpolation = cv2.INTER_AREA)\n",
    "                        temp_des = hog.compute(temp_img)\n",
    "                        diff = np.sqrt(np.abs((des-temp_des))).sum()\n",
    "                        character_diffs.append(diff)\n",
    "                \n",
    "        idx = character_diffs.index(min(character_diffs))\n",
    "        char_file_path = character_files[idx]\n",
    "\n",
    "        img = mpimg.imread(char_file_path)\n",
    "        imgplot = plt.imshow(img)"
   ]
  },
  {
   "cell_type": "code",
   "execution_count": 41,
   "metadata": {},
   "outputs": [
    {
     "name": "stdout",
     "output_type": "stream",
     "text": [
      "jpg\n",
      "jpg\n",
      "jpg\n",
      "jpg\n",
      "jpg\n",
      "jpg\n",
      "jpg\n"
     ]
    },
    {
     "data": {
      "image/png": "[encoded data removed]",
      "text/plain": [
       "<Figure size 432x288 with 1 Axes>"
      ]
     },
     "metadata": {
      "needs_background": "light"
     },
     "output_type": "display_data"
    }
   ],
   "source": [
    "image_path = './demotest_dataset/plant_7.jpg'\n",
    "folder_path = './char_new_dataset'\n",
    "\n",
    "pred_class = predict_class(model, image_path)\n",
    "predict_char(pred_class, folder_path, image_path)"
   ]
  },
  {
   "cell_type": "code",
   "execution_count": 5,
   "metadata": {},
   "outputs": [
    {
     "ename": "NameError",
     "evalue": "name 'transforms' is not defined",
     "output_type": "error",
     "traceback": [
      "\u001b[0;31m---------------------------------------------------------------------------\u001b[0m",
      "\u001b[0;31mNameError\u001b[0m                                 Traceback (most recent call last)",
      "\u001b[0;32m<ipython-input-5-a115a294c440>\u001b[0m in \u001b[0;36m<module>\u001b[0;34m()\u001b[0m\n\u001b[1;32m     48\u001b[0m \u001b[0mchar_folder_path\u001b[0m \u001b[0;34m=\u001b[0m \u001b[0;34m'./data/categorized_characters'\u001b[0m\u001b[0;34m\u001b[0m\u001b[0;34m\u001b[0m\u001b[0m\n\u001b[1;32m     49\u001b[0m \u001b[0mclassifier\u001b[0m \u001b[0;34m=\u001b[0m \u001b[0mClassifier\u001b[0m\u001b[0;34m(\u001b[0m\u001b[0mmodel\u001b[0m\u001b[0;34m)\u001b[0m\u001b[0;34m\u001b[0m\u001b[0;34m\u001b[0m\u001b[0m\n\u001b[0;32m---> 50\u001b[0;31m \u001b[0mpred_category\u001b[0m \u001b[0;34m=\u001b[0m \u001b[0mpredict_class\u001b[0m\u001b[0;34m(\u001b[0m\u001b[0mmodel\u001b[0m\u001b[0;34m,\u001b[0m \u001b[0mtest_img_path\u001b[0m\u001b[0;34m)\u001b[0m\u001b[0;34m\u001b[0m\u001b[0;34m\u001b[0m\u001b[0m\n\u001b[0m\u001b[1;32m     51\u001b[0m \u001b[0mclassifier\u001b[0m\u001b[0;34m.\u001b[0m\u001b[0mpredict_char\u001b[0m\u001b[0;34m(\u001b[0m\u001b[0mpred_category\u001b[0m\u001b[0;34m,\u001b[0m \u001b[0mchar_folder_path\u001b[0m\u001b[0;34m,\u001b[0m \u001b[0mtest_img_path\u001b[0m\u001b[0;34m)\u001b[0m\u001b[0;34m\u001b[0m\u001b[0;34m\u001b[0m\u001b[0m\n",
      "\u001b[0;32m<ipython-input-5-a115a294c440>\u001b[0m in \u001b[0;36mpredict_class\u001b[0;34m(model, image_path)\u001b[0m\n\u001b[1;32m     24\u001b[0m \u001b[0;34m\u001b[0m\u001b[0m\n\u001b[1;32m     25\u001b[0m \u001b[0;32mdef\u001b[0m \u001b[0mpredict_class\u001b[0m\u001b[0;34m(\u001b[0m\u001b[0mmodel\u001b[0m\u001b[0;34m,\u001b[0m \u001b[0mimage_path\u001b[0m\u001b[0;34m)\u001b[0m\u001b[0;34m:\u001b[0m\u001b[0;34m\u001b[0m\u001b[0;34m\u001b[0m\u001b[0m\n\u001b[0;32m---> 26\u001b[0;31m     testset = DemoDataset(image_path, transform=transforms.Compose([\n\u001b[0m\u001b[1;32m     27\u001b[0m                         transforms.Resize((224, 224))]))\n\u001b[1;32m     28\u001b[0m     \u001b[0mtest_dataloader\u001b[0m \u001b[0;34m=\u001b[0m \u001b[0mDataLoader\u001b[0m\u001b[0;34m(\u001b[0m\u001b[0mtestset\u001b[0m\u001b[0;34m,\u001b[0m \u001b[0mbatch_size\u001b[0m\u001b[0;34m=\u001b[0m\u001b[0;36m1\u001b[0m\u001b[0;34m,\u001b[0m \u001b[0mshuffle\u001b[0m\u001b[0;34m=\u001b[0m\u001b[0;32mFalse\u001b[0m\u001b[0;34m)\u001b[0m\u001b[0;34m\u001b[0m\u001b[0;34m\u001b[0m\u001b[0m\n",
      "\u001b[0;31mNameError\u001b[0m: name 'transforms' is not defined"
     ]
    }
   ],
   "source": [
    "from segmentation import select_char\n",
    "from classify import Classifier\n",
    "from torch.utils.data import DataLoader, Dataset\n",
    "from net import MyNet\n",
    "\n",
    "import torch\n",
    "\n",
    "class DemoDataset(Dataset):\n",
    "    def __init__(self, image_path, transform=None):\n",
    "        self.data = []\n",
    "        self.transform = transform\n",
    "        \n",
    "        image = read_image(image_path)/255\n",
    "        if self.transform:\n",
    "            image = self.transform(image)\n",
    "            \n",
    "        self.data.append((image, torch.tensor(-1)))\n",
    "    \n",
    "    def __len__(self):\n",
    "        return len(self.data)\n",
    "    \n",
    "    def __getitem__(self, idx):\n",
    "        return self.data[idx]\n",
    "\n",
    "def predict_class(model, image_path):\n",
    "    testset = DemoDataset(image_path, transform=transforms.Compose([\n",
    "                        transforms.Resize((224, 224))]))\n",
    "    test_dataloader = DataLoader(testset, batch_size=1, shuffle=False)\n",
    "\n",
    "    for data in test_dataloader:\n",
    "        images, labels = data\n",
    "\n",
    "        outputs = model(images)\n",
    "\n",
    "        _, predictions = torch.max(outputs, 1)\n",
    "\n",
    "        pred_category = label = decode_label(predictions[0])\n",
    "        print('Predicted category:', pred_category)\n",
    " \n",
    "        return pred_category\n",
    "\n",
    "test_img_path = './test.jpg'\n",
    "\n",
    "model_path = './models/model_on_boardset.pth'\n",
    "model = MyNet(category_num=9)\n",
    "model.load_state_dict(torch.load(model_path))\n",
    "\n",
    "char_folder_path = './data/categorized_characters'\n",
    "classifier = Classifier(model)\n",
    "pred_category = predict_class(model, test_img_path)\n",
    "classifier.predict_char(pred_category, char_folder_path, test_img_path)\n"
   ]
  },
  {
   "cell_type": "code",
   "execution_count": null,
   "metadata": {},
   "outputs": [],
   "source": []
  }
 ],
 "metadata": {
  "kernelspec": {
   "display_name": "Python 3",
   "language": "python",
   "name": "python3"
  },
  "language_info": {
   "codemirror_mode": {
    "name": "ipython",
    "version": 3
   },
   "file_extension": ".py",
   "mimetype": "text/x-python",
   "name": "python",
   "nbconvert_exporter": "python",
   "pygments_lexer": "ipython3",
   "version": "3.7.9"
  }
 },
 "nbformat": 4,
 "nbformat_minor": 4
}
